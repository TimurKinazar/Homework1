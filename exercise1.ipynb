{
 "cells": [
  {
   "cell_type": "code",
   "execution_count": 15,
   "metadata": {},
   "outputs": [
    {
     "name": "stdout",
     "output_type": "stream",
     "text": [
      "WHat is your name?\n",
      "2\n",
      "how old are you?\n",
      "3\n",
      "2115\n"
     ]
    }
   ],
   "source": [
    "#'1'\n",
    "print(\"WHat is your name?\")\n",
    "name = input()\n",
    "print (\"how old are you?\")\n",
    "age = input()\n",
    "a=int(age)\n",
    "print(2018-a+100)"
   ]
  },
  {
   "cell_type": "code",
   "execution_count": 18,
   "metadata": {},
   "outputs": [
    {
     "name": "stdout",
     "output_type": "stream",
     "text": [
      "Input a number:\n",
      "10\n",
      "your number is Even\n"
     ]
    }
   ],
   "source": [
    "#2\n",
    "print(\"Input a number:\")\n",
    "a = input()\n",
    "number = int(a)\n",
    "if number % 2 > 0:\n",
    "    print (\"Your number is Odd\")\n",
    "else:\n",
    "    print(\"your number is Even\")"
   ]
  },
  {
   "cell_type": "code",
   "execution_count": 27,
   "metadata": {},
   "outputs": [
    {
     "name": "stdout",
     "output_type": "stream",
     "text": [
      "1\n",
      "1\n",
      "2\n",
      "3\n"
     ]
    }
   ],
   "source": [
    "#3\n",
    "a = [1,1,2,3,5,8,13,21,34,55,89]\n",
    "for i in a:\n",
    "    if i<5:\n",
    "        print (i)"
   ]
  },
  {
   "cell_type": "code",
   "execution_count": 35,
   "metadata": {},
   "outputs": [
    {
     "name": "stdout",
     "output_type": "stream",
     "text": [
      "Input a number:\n",
      "10\n",
      "1\n",
      "2\n",
      "5\n",
      "10\n"
     ]
    }
   ],
   "source": [
    "#4\n",
    "print (\"Input a number:\")\n",
    "a = int(input())\n",
    "x = range(1,a+1)\n",
    "for i in x:\n",
    "    if a%i==0:\n",
    "        print (i)"
   ]
  },
  {
   "cell_type": "markdown",
   "metadata": {},
   "source": [
    "a = [1,1,2,3,5,8,13,21,34,55,89]\n",
    "b = [1,2,3,4,5,6,7,8,9,10]\n",
    "print(a&b)"
   ]
  },
  {
   "cell_type": "code",
   "execution_count": 42,
   "metadata": {},
   "outputs": [
    {
     "name": "stdout",
     "output_type": "stream",
     "text": [
      "The intersections are:  [1, 2, 3, 5, 13]\n"
     ]
    }
   ],
   "source": [
    "#5\n",
    "a = [1, 1, 2, 3, 5, 8, 13, 21, 34, 55, 89]\n",
    "b = [1, 2, 3, 4, 5, 6, 7, 9, 10, 11, 12, 13]\n",
    "x = list(set(a)&(set(b)))\n",
    "\n",
    "if x:\n",
    "    print (\"The intersections are: \", x)\n",
    "else:\n",
    "    print(\"No intersection.\")"
   ]
  },
  {
   "cell_type": "code",
   "execution_count": 53,
   "metadata": {
    "scrolled": true
   },
   "outputs": [
    {
     "name": "stdout",
     "output_type": "stream",
     "text": [
      "4\n",
      "too small\n",
      "12\n",
      "too small\n",
      "32\n",
      "too high\n",
      "23\n",
      "too high\n",
      "22\n",
      "too high\n",
      "17\n",
      "too high\n",
      "15\n",
      "Right\n"
     ]
    }
   ],
   "source": [
    "#9\n",
    "import random\n",
    "number = random.randint(1,50)\n",
    "a = 0\n",
    "while a!= number and a!= \"exit\":\n",
    "    a = input()\n",
    "    if a == \"exit\":\n",
    "        break\n",
    "    a = int(a)\n",
    "    if a > number:\n",
    "        print (\"too high\")\n",
    "    elif a<number:\n",
    "        print (\"too small\")\n",
    "    else:\n",
    "        print (\"Right\")"
   ]
  },
  {
   "cell_type": "code",
   "execution_count": 16,
   "metadata": {},
   "outputs": [
    {
     "name": "stdout",
     "output_type": "stream",
     "text": [
      "what difficulty: easy, normal or hard? \n",
      "normal\n",
      "bPyT2LdfNA\n"
     ]
    }
   ],
   "source": [
    "#16\n",
    "\n",
    "import random\n",
    "\n",
    "s1 = \"abcdefghijklmnopqrstuvwxyz01234567890\"\n",
    "s2 = \"abcdefghijklmnopqrstuvwxyz01234567890ABCDEFGHIJKLMNOPQRSTUVWXYZ\"\n",
    "s3 = \"abcdefghijklmnopqrstuvwxyz01234567890ABCDEFGHIJKLMNOPQRSTUVWXYZ!@#$%^&*()?\"\n",
    "len1 = 6\n",
    "len2 = 10\n",
    "len3 = 18\n",
    "print (\"what difficulty: easy, normal or hard? \")\n",
    "diff = input()\n",
    "if diff == \"easy\":\n",
    "    p = \"\".join(random.sample(s1,len1 ))\n",
    "    print (p)\n",
    "elif diff == \"normal\":\n",
    "    p =\"\".join(random.sample(s2,len2 ))\n",
    "    print(p)\n",
    "elif diff == \"hard\":\n",
    "    p =\"\".join(random.sample(s3,len3 ))\n",
    "    print(p)\n",
    "else:\n",
    "    print (\"Incorrect input\")\n"
   ]
  },
  {
   "cell_type": "code",
   "execution_count": null,
   "metadata": {},
   "outputs": [],
   "source": []
  },
  {
   "cell_type": "code",
   "execution_count": null,
   "metadata": {},
   "outputs": [],
   "source": []
  }
 ],
 "metadata": {
  "kernelspec": {
   "display_name": "Python 3",
   "language": "python",
   "name": "python3"
  },
  "language_info": {
   "codemirror_mode": {
    "name": "ipython",
    "version": 3
   },
   "file_extension": ".py",
   "mimetype": "text/x-python",
   "name": "python",
   "nbconvert_exporter": "python",
   "pygments_lexer": "ipython3",
   "version": "3.6.5"
  }
 },
 "nbformat": 4,
 "nbformat_minor": 2
}
